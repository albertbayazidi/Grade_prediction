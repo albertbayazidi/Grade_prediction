{
  "nbformat": 4,
  "nbformat_minor": 0,
  "metadata": {
    "colab": {
      "name": "Grade_Pred.ipynb",
      "provenance": []
    },
    "kernelspec": {
      "name": "python3",
      "display_name": "Python 3"
    },
    "language_info": {
      "name": "python"
    }
  },
  "cells": [
    {
      "cell_type": "code",
      "execution_count": null,
      "metadata": {
        "id": "WlxtJBV-LU5y"
      },
      "outputs": [],
      "source": [
        "import torch\n",
        "import sklearn\n",
        "import numpy as np\n",
        "from sklearn import linear_model"
      ]
    },
    {
      "cell_type": "code",
      "source": [
        "a = np.loadtxt(\"/content/drive/MyDrive/Colab_Notebooks/Grade_pred/student-mat.csv\",dtype=\"str\", delimiter=\";\")"
      ],
      "metadata": {
        "id": "ayvyA-AadOc_"
      },
      "execution_count": null,
      "outputs": []
    },
    {
      "cell_type": "code",
      "source": [
        "training_size = int(395 * 0.8)"
      ],
      "metadata": {
        "id": "o8NESlFX5qKp"
      },
      "execution_count": null,
      "outputs": []
    },
    {
      "cell_type": "code",
      "source": [
        "def variable_picker(Var_array):\n",
        "  x = np.arange(1,396)\n",
        "  n_features = len(Var_array)\n",
        "  data_array = np.zeros(n_features*len(x))\n",
        "  k = 0\n",
        "  for i in Var_array:\n",
        "    for j in x:\n",
        "      data_array[k] = a[j][i]\n",
        "      k += 1 \n",
        "\n",
        "  data_array = data_array.reshape(n_features,395).T\n",
        "  training_dataset = data_array[:training_size]\n",
        "  test_dataset = data_array[training_size:]\n",
        "\n",
        "  return training_dataset,test_dataset,n_features"
      ],
      "metadata": {
        "id": "Z7dKTPYBgHql"
      },
      "execution_count": null,
      "outputs": []
    },
    {
      "cell_type": "code",
      "source": [
        "def Loader_and_spliter(training_dataset,test_dataset,n_features):\n",
        "  # Test/train Lodaer\n",
        "  train_loader = torch.utils.data.DataLoader(training_dataset,batch_size=training_size,shuffle=True)\n",
        "  test_loader = torch.utils.data.DataLoader(test_dataset,batch_size=len(test_dataset),shuffle=True)\n",
        "\n",
        "  # Train data\n",
        "  train_iter = iter(train_loader)\n",
        "  train_data_shuffled = train_iter.next()\n",
        "\n",
        "  x_train = train_data_shuffled[:,:n_features-1]\n",
        "  y_train = train_data_shuffled[:,n_features-1:]\n",
        "\n",
        "  # Test data\n",
        "  test_iter = iter(test_loader)\n",
        "  test_data_shuffled = test_iter.next()\n",
        "\n",
        "  x_test = test_data_shuffled[:,:n_features-1]\n",
        "  y_test = test_data_shuffled[:,n_features-1:]\n",
        "\n",
        "  return x_train,y_train,x_test,y_test"
      ],
      "metadata": {
        "id": "NrsbEjVOp1sS"
      },
      "execution_count": null,
      "outputs": []
    },
    {
      "cell_type": "markdown",
      "source": [
        "![Image of dataset features](https://user-images.githubusercontent.com/102351774/179286989-5369c17f-648a-4e19-9b50-6bbd40534651.png) "
      ],
      "metadata": {
        "id": "mDQtG4AIFnOT"
      }
    },
    {
      "cell_type": "markdown",
      "source": [
        "When choosing a list of variables try picking integers and not bools or string since the regression will not work with them."
      ],
      "metadata": {
        "id": "lLXIX0c1GoPc"
      }
    },
    {
      "cell_type": "code",
      "source": [
        "Var_array = [2,13,14,28,29,30,31,32]\n",
        "training_dataset,test_dataset,n_features = variable_picker(Var_array)\n",
        "x_train,y_train,x_test,y_test = Loader_and_spliter(training_dataset,test_dataset,n_features)\n",
        "\n",
        "\n",
        "linear = linear_model.LinearRegression()\n",
        "linear.fit(x_train,y_train)\n",
        "acc = linear.score(x_test,y_test)\n",
        "\n",
        "print(f\"Accuracy of prediction was {round(acc,3)*100}%\")"
      ],
      "metadata": {
        "colab": {
          "base_uri": "https://localhost:8080/"
        },
        "id": "E86zCY4_8vQd",
        "outputId": "a9a14230-21bf-47a9-e7c0-d93ce323607f"
      },
      "execution_count": null,
      "outputs": [
        {
          "output_type": "stream",
          "name": "stdout",
          "text": [
            "Accuracy of prediction was 72.5%\n"
          ]
        }
      ]
    },
    {
      "cell_type": "code",
      "source": [
        "Var_array_2 = [13,14,30,31,32]\n",
        "training_dataset_2,test_dataset_2, n_features = variable_picker(Var_array_2)\n",
        "x_train_2,y_train_2,x_test_2,y_test_2 = Loader_and_spliter(training_dataset_2,test_dataset_2,n_features)\n",
        "\n",
        "linear = linear_model.LinearRegression()\n",
        "linear.fit(x_train_2,y_train_2)\n",
        "acc = linear.score(x_test_2,y_test_2)\n",
        "\n",
        "print(f\"Accuracy of prediction was {round(acc,3)*100}%\")"
      ],
      "metadata": {
        "colab": {
          "base_uri": "https://localhost:8080/"
        },
        "id": "eOmw5f43RFoz",
        "outputId": "48ab98de-5ae7-42f9-d172-c19b0007d476"
      },
      "execution_count": null,
      "outputs": [
        {
          "output_type": "stream",
          "name": "stdout",
          "text": [
            "Accuracy of prediction was 70.8%\n"
          ]
        }
      ]
    },
    {
      "cell_type": "code",
      "source": [
        "print(\"Coefficients:\")\n",
        "print(*np.round(linear.coef_[0],5), sep=\", \")\n",
        "print(f\"y-intercept: {round(linear.intercept_[0],3)} first variable set\\n\")\n",
        "\n",
        "\n",
        "print(f\"Coefficients:\")\n",
        "print(*np.round(linear.coef_[0],5), sep=\", \")\n",
        "print(f\"y-intercept: {round(linear.intercept_[0],3)} second variable set\")"
      ],
      "metadata": {
        "colab": {
          "base_uri": "https://localhost:8080/"
        },
        "id": "wUELJFMLJ1L0",
        "outputId": "f62c6fe9-94e0-4aea-ee4e-dc9bfbe74933"
      },
      "execution_count": null,
      "outputs": [
        {
          "output_type": "stream",
          "name": "stdout",
          "text": [
            "Coefficients:\n",
            "-0.17829, -0.33812, 0.1235, 0.96305\n",
            "y-intercept: -0.641 first varible set\n",
            "\n",
            "Coefficients:\n",
            "-0.17829, -0.33812, 0.1235, 0.96305\n",
            "y-intercept: -0.641 second varible set\n"
          ]
        }
      ]
    }
  ]
}